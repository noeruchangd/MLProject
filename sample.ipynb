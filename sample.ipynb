{
 "cells": [
  {
   "metadata": {},
   "cell_type": "markdown",
   "source": [
    "# Stock market predictions - Decision Trees and Random Forests\n",
    "\n",
    "Welcome to my rather scuffed implementation of the Decision Tree and Random Forest algorithms for stock market predictions.\n",
    "\n",
    "The data used in this notebook is sourced from [this Kaggle dataset](https://www.kaggle.com/datasets/borismarjanovic/price-volume-data-for-all-us-stocks-etfs). Data from the GE stock ticker is used in specific, which can be found in the file \"ge.us.txt\" in CSV format. The dataset includes OHLC prices and the volume, all in 1-day intervals."
   ],
   "id": "8a77807f92f26ee"
  },
  {
   "metadata": {},
   "cell_type": "markdown",
   "source": [
    "## Goals\n",
    "\n",
    "The project's goal is to use the models above to predict the closing prices of a certain stock ticker. Namely, given the closing prices of"
   ],
   "id": "6b50a5bb59919865"
  }
 ],
 "metadata": {
  "kernelspec": {
   "display_name": "Python 3",
   "language": "python",
   "name": "python3"
  },
  "language_info": {
   "codemirror_mode": {
    "name": "ipython",
    "version": 2
   },
   "file_extension": ".py",
   "mimetype": "text/x-python",
   "name": "python",
   "nbconvert_exporter": "python",
   "pygments_lexer": "ipython2",
   "version": "2.7.6"
  }
 },
 "nbformat": 4,
 "nbformat_minor": 5
}
